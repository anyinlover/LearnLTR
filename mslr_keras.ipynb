{
 "cells": [
  {
   "cell_type": "code",
   "execution_count": 2,
   "metadata": {},
   "outputs": [],
   "source": [
    "import tensorflow as tf\n",
    "import tensorflow_ranking as tfr\n",
    "from dataset_builder import ZlibDatasetBuilder"
   ]
  },
  {
   "cell_type": "code",
   "execution_count": 3,
   "metadata": {},
   "outputs": [],
   "source": [
    "_LABEL_FEATURE = 'label'\n",
    "_MASK = '_mask'\n",
    "_PADDING_LABEL = -1.0\n",
    "_FEATURE_NAMES = {\n",
    "    1: \"covered_query_term_number_body\",\n",
    "    2: \"covered_query_term_number_anchor\",\n",
    "    3: \"covered_query_term_number_title\",\n",
    "    4: \"covered_query_term_number_url\",\n",
    "    5: \"covered_query_term_number_whole_document\",\n",
    "    6: \"covered_query_term_ratio_body\",\n",
    "    7: \"covered_query_term_ratio_anchor\",\n",
    "    8: \"covered_query_term_ratio_title\",\n",
    "    9: \"covered_query_term_ratio_url\",\n",
    "    10: \"covered_query_term_ratio_whole_document\",\n",
    "    11: \"stream_length_body\",\n",
    "    12: \"stream_length_anchor\",\n",
    "    13: \"stream_length_title\",\n",
    "    14: \"stream_length_url\",\n",
    "    15: \"stream_length_whole_document\",\n",
    "    16: \"idf_body\",\n",
    "    17: \"idf_anchor\",\n",
    "    18: \"idf_title\",\n",
    "    19: \"idf_url\",\n",
    "    20: \"idf_whole_document\",\n",
    "    21: \"sum_of_term_frequency_body\",\n",
    "    22: \"sum_of_term_frequency_anchor\",\n",
    "    23: \"sum_of_term_frequency_title\",\n",
    "    24: \"sum_of_term_frequency_url\",\n",
    "    25: \"sum_of_term_frequency_whole_document\",\n",
    "    26: \"min_of_term_frequency_body\",\n",
    "    27: \"min_of_term_frequency_anchor\",\n",
    "    28: \"min_of_term_frequency_title\",\n",
    "    29: \"min_of_term_frequency_url\",\n",
    "    30: \"min_of_term_frequency_whole_document\",\n",
    "    31: \"max_of_term_frequency_body\",\n",
    "    32: \"max_of_term_frequency_anchor\",\n",
    "    33: \"max_of_term_frequency_title\",\n",
    "    34: \"max_of_term_frequency_url\",\n",
    "    35: \"max_of_term_frequency_whole_document\",\n",
    "    36: \"mean_of_term_frequency_body\",\n",
    "    37: \"mean_of_term_frequency_anchor\",\n",
    "    38: \"mean_of_term_frequency_title\",\n",
    "    39: \"mean_of_term_frequency_url\",\n",
    "    40: \"mean_of_term_frequency_whole_document\",\n",
    "    41: \"variance_of_term_frequency_body\",\n",
    "    42: \"variance_of_term_frequency_anchor\",\n",
    "    43: \"variance_of_term_frequency_title\",\n",
    "    44: \"variance_of_term_frequency_url\",\n",
    "    45: \"variance_of_term_frequency_whole_document\",\n",
    "    46: \"sum_of_stream_length_normalized_term_frequency_body\",\n",
    "    47: \"sum_of_stream_length_normalized_term_frequency_anchor\",\n",
    "    48: \"sum_of_stream_length_normalized_term_frequency_title\",\n",
    "    49: \"sum_of_stream_length_normalized_term_frequency_url\",\n",
    "    50: \"sum_of_stream_length_normalized_term_frequency_whole_document\",\n",
    "    51: \"min_of_stream_length_normalized_term_frequency_body\",\n",
    "    52: \"min_of_stream_length_normalized_term_frequency_anchor\",\n",
    "    53: \"min_of_stream_length_normalized_term_frequency_title\",\n",
    "    54: \"min_of_stream_length_normalized_term_frequency_url\",\n",
    "    55: \"min_of_stream_length_normalized_term_frequency_whole_document\",\n",
    "    56: \"max_of_stream_length_normalized_term_frequency_body\",\n",
    "    57: \"max_of_stream_length_normalized_term_frequency_anchor\",\n",
    "    58: \"max_of_stream_length_normalized_term_frequency_title\",\n",
    "    59: \"max_of_stream_length_normalized_term_frequency_url\",\n",
    "    60: \"max_of_stream_length_normalized_term_frequency_whole_document\",\n",
    "    61: \"mean_of_stream_length_normalized_term_frequency_body\",\n",
    "    62: \"mean_of_stream_length_normalized_term_frequency_anchor\",\n",
    "    63: \"mean_of_stream_length_normalized_term_frequency_title\",\n",
    "    64: \"mean_of_stream_length_normalized_term_frequency_url\",\n",
    "    65: \"mean_of_stream_length_normalized_term_frequency_whole_document\",\n",
    "    66: \"variance_of_stream_length_normalized_term_frequency_body\",\n",
    "    67: \"variance_of_stream_length_normalized_term_frequency_anchor\",\n",
    "    68: \"variance_of_stream_length_normalized_term_frequency_title\",\n",
    "    69: \"variance_of_stream_length_normalized_term_frequency_url\",\n",
    "    70: \"variance_of_stream_length_normalized_term_frequency_whole_document\",\n",
    "    71: \"sum_of_tf_idf_body\",\n",
    "    72: \"sum_of_tf_idf_anchor\",\n",
    "    73: \"sum_of_tf_idf_title\",\n",
    "    74: \"sum_of_tf_idf_url\",\n",
    "    75: \"sum_of_tf_idf_whole_document\",\n",
    "    76: \"min_of_tf_idf_body\",\n",
    "    77: \"min_of_tf_idf_anchor\",\n",
    "    78: \"min_of_tf_idf_title\",\n",
    "    79: \"min_of_tf_idf_url\",\n",
    "    80: \"min_of_tf_idf_whole_document\",\n",
    "    81: \"max_of_tf_idf_body\",\n",
    "    82: \"max_of_tf_idf_anchor\",\n",
    "    83: \"max_of_tf_idf_title\",\n",
    "    84: \"max_of_tf_idf_url\",\n",
    "    85: \"max_of_tf_idf_whole_document\",\n",
    "    86: \"mean_of_tf_idf_body\",\n",
    "    87: \"mean_of_tf_idf_anchor\",\n",
    "    88: \"mean_of_tf_idf_title\",\n",
    "    89: \"mean_of_tf_idf_url\",\n",
    "    90: \"mean_of_tf_idf_whole_document\",\n",
    "    91: \"variance_of_tf_idf_body\",\n",
    "    92: \"variance_of_tf_idf_anchor\",\n",
    "    93: \"variance_of_tf_idf_title\",\n",
    "    94: \"variance_of_tf_idf_url\",\n",
    "    95: \"variance_of_tf_idf_whole_document\",\n",
    "    96: \"boolean_model_body\",\n",
    "    97: \"boolean_model_anchor\",\n",
    "    98: \"boolean_model_title\",\n",
    "    99: \"boolean_model_url\",\n",
    "    100: \"boolean_model_whole_document\",\n",
    "    101: \"vector_space_model_body\",\n",
    "    102: \"vector_space_model_anchor\",\n",
    "    103: \"vector_space_model_title\",\n",
    "    104: \"vector_space_model_url\",\n",
    "    105: \"vector_space_model_whole_document\",\n",
    "    106: \"bm25_body\",\n",
    "    107: \"bm25_anchor\",\n",
    "    108: \"bm25_title\",\n",
    "    109: \"bm25_url\",\n",
    "    110: \"bm25_whole_document\",\n",
    "    111: \"lmir_abs_body\",\n",
    "    112: \"lmir_abs_anchor\",\n",
    "    113: \"lmir_abs_title\",\n",
    "    114: \"lmir_abs_url\",\n",
    "    115: \"lmir_abs_whole_document\",\n",
    "    116: \"lmir_dir_body\",\n",
    "    117: \"lmir_dir_anchor\",\n",
    "    118: \"lmir_dir_title\",\n",
    "    119: \"lmir_dir_url\",\n",
    "    120: \"lmir_dir_whole_document\",\n",
    "    121: \"lmir_jm_body\",\n",
    "    122: \"lmir_jm_anchor\",\n",
    "    123: \"lmir_jm_title\",\n",
    "    124: \"lmir_jm_url\",\n",
    "    125: \"lmir_jm_whole_document\",\n",
    "    126: \"number_of_slash_in_url\",\n",
    "    127: \"length_of_url\",\n",
    "    128: \"inlink_number\",\n",
    "    129: \"outlink_number\",\n",
    "    130: \"page_rank\",\n",
    "    131: \"site_rank\",\n",
    "    132: \"quality_score\",\n",
    "    133: \"quality_score_2\",\n",
    "    134: \"query_url_click_count\",\n",
    "    135: \"url_click_count\",\n",
    "    136: \"url_dwell_time\",\n",
    "}"
   ]
  },
  {
   "cell_type": "code",
   "execution_count": 5,
   "metadata": {},
   "outputs": [],
   "source": [
    "def train_and_validate(config):\n",
    "    example_feature_spec = {}\n",
    "    for feature in _FEATURE_NAMES.values():\n",
    "        example_feature_spec[feature] = tf.io.FixedLenFeature(shape=(1,), dtype=tf.float32, default_value=0.0)\n",
    "\n",
    "    context_feature_spec = {}\n",
    "    label_spec = (_LABEL_FEATURE, tf.io.FixedLenFeature(shape=(1,), dtype=tf.float32, default_value=_PADDING_LABEL))\n",
    "    dataset_hparams = tfr.keras.pipeline.DatasetHparams(\n",
    "        train_input_pattern=config['train_input'],\n",
    "        valid_input_pattern=config['vali_input'],\n",
    "        train_batch_size=config['train_batch_size'],\n",
    "        valid_batch_size=config['valid_batch_size'],\n",
    "        list_size=config['list_size']\n",
    "    )\n",
    "\n",
    "    pipeline_hparams = tfr.keras.pipeline.PipelineHparams(\n",
    "        model_dir=config['model_dir'],\n",
    "        num_epochs=config['num_epochs'],\n",
    "        steps_per_epoch=config['steps_per_epoch'],\n",
    "        validation_steps=config['validation_steps'],\n",
    "        loss=config['loss'],\n",
    "        optimizer=config['optimizer'],\n",
    "        learning_rate=config['learning_rate'],\n",
    "        strategy=config['strategy']\n",
    "    )\n",
    "    \n",
    "    dnn_scorer = tfr.keras.model.DNNScorer(\n",
    "        hidden_layer_dims = config['hidden_layer_dims'],\n",
    "        output_units=1,\n",
    "        activation = tf.nn.relu,\n",
    "        input_batch_norm = True,\n",
    "        dropout = config['dropout']\n",
    "    )\n",
    "\n",
    "    model_builder = tfr.keras.model.ModelBuilder(\n",
    "        input_creator=tfr.keras.model.FeatureSpecInputCreator(\n",
    "            context_feature_spec, example_feature_spec),\n",
    "        preprocessor=tfr.keras.model.PreprocessorWithSpec(),\n",
    "        scorer=dnn_scorer,\n",
    "        mask_feature_name=_MASK,\n",
    "        name=config['name']\n",
    "    )\n",
    "\n",
    "    dataset_builder = ZlibDatasetBuilder(\n",
    "        context_feature_spec=context_feature_spec,\n",
    "        example_feature_spec=example_feature_spec,\n",
    "        mask_feature_name=_MASK,\n",
    "        label_spec=label_spec,\n",
    "        hparams=dataset_hparams\n",
    "    )\n",
    "\n",
    "    ranking_pipeline = tfr.keras.pipeline.SimplePipeline(\n",
    "        model_builder=model_builder,\n",
    "        dataset_builder=dataset_builder,\n",
    "        hparams=pipeline_hparams\n",
    "    )\n",
    "\n",
    "    ranking_pipeline.train_and_validate(verbose=1)"
   ]
  },
  {
   "cell_type": "code",
   "execution_count": 4,
   "metadata": {},
   "outputs": [
    {
     "name": "stdout",
     "output_type": "stream",
     "text": [
      "INFO:tensorflow:Using MirroredStrategy with devices ('/job:localhost/replica:0/task:0/device:GPU:0',)\n"
     ]
    },
    {
     "name": "stderr",
     "output_type": "stream",
     "text": [
      "2022-03-20 14:02:26.694245: I tensorflow/stream_executor/cuda/cuda_gpu_executor.cc:925] could not open file to read NUMA node: /sys/bus/pci/devices/0000:09:00.0/numa_node\n",
      "Your kernel may have been built without NUMA support.\n",
      "2022-03-20 14:02:26.752900: I tensorflow/stream_executor/cuda/cuda_gpu_executor.cc:925] could not open file to read NUMA node: /sys/bus/pci/devices/0000:09:00.0/numa_node\n",
      "Your kernel may have been built without NUMA support.\n",
      "2022-03-20 14:02:26.753215: I tensorflow/stream_executor/cuda/cuda_gpu_executor.cc:925] could not open file to read NUMA node: /sys/bus/pci/devices/0000:09:00.0/numa_node\n",
      "Your kernel may have been built without NUMA support.\n",
      "2022-03-20 14:02:26.754007: I tensorflow/core/platform/cpu_feature_guard.cc:151] This TensorFlow binary is optimized with oneAPI Deep Neural Network Library (oneDNN) to use the following CPU instructions in performance-critical operations:  SSE4.1 SSE4.2 AVX AVX2 FMA\n",
      "To enable them in other operations, rebuild TensorFlow with the appropriate compiler flags.\n",
      "2022-03-20 14:02:26.755740: I tensorflow/stream_executor/cuda/cuda_gpu_executor.cc:925] could not open file to read NUMA node: /sys/bus/pci/devices/0000:09:00.0/numa_node\n",
      "Your kernel may have been built without NUMA support.\n",
      "2022-03-20 14:02:26.756037: I tensorflow/stream_executor/cuda/cuda_gpu_executor.cc:925] could not open file to read NUMA node: /sys/bus/pci/devices/0000:09:00.0/numa_node\n",
      "Your kernel may have been built without NUMA support.\n",
      "2022-03-20 14:02:26.756289: I tensorflow/stream_executor/cuda/cuda_gpu_executor.cc:925] could not open file to read NUMA node: /sys/bus/pci/devices/0000:09:00.0/numa_node\n",
      "Your kernel may have been built without NUMA support.\n",
      "2022-03-20 14:02:27.533876: I tensorflow/stream_executor/cuda/cuda_gpu_executor.cc:925] could not open file to read NUMA node: /sys/bus/pci/devices/0000:09:00.0/numa_node\n",
      "Your kernel may have been built without NUMA support.\n",
      "2022-03-20 14:02:27.534168: I tensorflow/stream_executor/cuda/cuda_gpu_executor.cc:925] could not open file to read NUMA node: /sys/bus/pci/devices/0000:09:00.0/numa_node\n",
      "Your kernel may have been built without NUMA support.\n",
      "2022-03-20 14:02:27.534179: I tensorflow/core/common_runtime/gpu/gpu_device.cc:1609] Could not identify NUMA node of platform GPU id 0, defaulting to 0.  Your kernel may not have been built with NUMA support.\n",
      "2022-03-20 14:02:27.534435: I tensorflow/stream_executor/cuda/cuda_gpu_executor.cc:925] could not open file to read NUMA node: /sys/bus/pci/devices/0000:09:00.0/numa_node\n",
      "Your kernel may have been built without NUMA support.\n",
      "2022-03-20 14:02:27.534470: I tensorflow/core/common_runtime/gpu/gpu_device.cc:1525] Created device /job:localhost/replica:0/task:0/device:GPU:0 with 9376 MB memory:  -> device: 0, name: NVIDIA GeForce RTX 3080 Ti, pci bus id: 0000:09:00.0, compute capability: 8.6\n"
     ]
    },
    {
     "name": "stdout",
     "output_type": "stream",
     "text": [
      "INFO:tensorflow:Reduce to /job:localhost/replica:0/task:0/device:CPU:0 then broadcast to ('/job:localhost/replica:0/task:0/device:CPU:0',).\n"
     ]
    },
    {
     "name": "stderr",
     "output_type": "stream",
     "text": [
      "INFO:tensorflow:Reduce to /job:localhost/replica:0/task:0/device:CPU:0 then broadcast to ('/job:localhost/replica:0/task:0/device:CPU:0',).\n"
     ]
    },
    {
     "name": "stdout",
     "output_type": "stream",
     "text": [
      "INFO:tensorflow:Reduce to /job:localhost/replica:0/task:0/device:CPU:0 then broadcast to ('/job:localhost/replica:0/task:0/device:CPU:0',).\n"
     ]
    },
    {
     "name": "stderr",
     "output_type": "stream",
     "text": [
      "INFO:tensorflow:Reduce to /job:localhost/replica:0/task:0/device:CPU:0 then broadcast to ('/job:localhost/replica:0/task:0/device:CPU:0',).\n"
     ]
    },
    {
     "name": "stdout",
     "output_type": "stream",
     "text": [
      "INFO:tensorflow:Reduce to /job:localhost/replica:0/task:0/device:CPU:0 then broadcast to ('/job:localhost/replica:0/task:0/device:CPU:0',).\n"
     ]
    },
    {
     "name": "stderr",
     "output_type": "stream",
     "text": [
      "INFO:tensorflow:Reduce to /job:localhost/replica:0/task:0/device:CPU:0 then broadcast to ('/job:localhost/replica:0/task:0/device:CPU:0',).\n"
     ]
    },
    {
     "name": "stdout",
     "output_type": "stream",
     "text": [
      "INFO:tensorflow:Reduce to /job:localhost/replica:0/task:0/device:CPU:0 then broadcast to ('/job:localhost/replica:0/task:0/device:CPU:0',).\n"
     ]
    },
    {
     "name": "stderr",
     "output_type": "stream",
     "text": [
      "INFO:tensorflow:Reduce to /job:localhost/replica:0/task:0/device:CPU:0 then broadcast to ('/job:localhost/replica:0/task:0/device:CPU:0',).\n"
     ]
    },
    {
     "name": "stdout",
     "output_type": "stream",
     "text": [
      "INFO:tensorflow:Reduce to /job:localhost/replica:0/task:0/device:CPU:0 then broadcast to ('/job:localhost/replica:0/task:0/device:CPU:0',).\n"
     ]
    },
    {
     "name": "stderr",
     "output_type": "stream",
     "text": [
      "INFO:tensorflow:Reduce to /job:localhost/replica:0/task:0/device:CPU:0 then broadcast to ('/job:localhost/replica:0/task:0/device:CPU:0',).\n"
     ]
    },
    {
     "name": "stdout",
     "output_type": "stream",
     "text": [
      "INFO:tensorflow:Reduce to /job:localhost/replica:0/task:0/device:CPU:0 then broadcast to ('/job:localhost/replica:0/task:0/device:CPU:0',).\n"
     ]
    },
    {
     "name": "stderr",
     "output_type": "stream",
     "text": [
      "INFO:tensorflow:Reduce to /job:localhost/replica:0/task:0/device:CPU:0 then broadcast to ('/job:localhost/replica:0/task:0/device:CPU:0',).\n"
     ]
    },
    {
     "name": "stdout",
     "output_type": "stream",
     "text": [
      "INFO:tensorflow:Reduce to /job:localhost/replica:0/task:0/device:CPU:0 then broadcast to ('/job:localhost/replica:0/task:0/device:CPU:0',).\n"
     ]
    },
    {
     "name": "stderr",
     "output_type": "stream",
     "text": [
      "INFO:tensorflow:Reduce to /job:localhost/replica:0/task:0/device:CPU:0 then broadcast to ('/job:localhost/replica:0/task:0/device:CPU:0',).\n"
     ]
    },
    {
     "name": "stdout",
     "output_type": "stream",
     "text": [
      "INFO:tensorflow:Reduce to /job:localhost/replica:0/task:0/device:CPU:0 then broadcast to ('/job:localhost/replica:0/task:0/device:CPU:0',).\n"
     ]
    },
    {
     "name": "stderr",
     "output_type": "stream",
     "text": [
      "INFO:tensorflow:Reduce to /job:localhost/replica:0/task:0/device:CPU:0 then broadcast to ('/job:localhost/replica:0/task:0/device:CPU:0',).\n"
     ]
    },
    {
     "name": "stdout",
     "output_type": "stream",
     "text": [
      "INFO:tensorflow:Reduce to /job:localhost/replica:0/task:0/device:CPU:0 then broadcast to ('/job:localhost/replica:0/task:0/device:CPU:0',).\n"
     ]
    },
    {
     "name": "stderr",
     "output_type": "stream",
     "text": [
      "INFO:tensorflow:Reduce to /job:localhost/replica:0/task:0/device:CPU:0 then broadcast to ('/job:localhost/replica:0/task:0/device:CPU:0',).\n"
     ]
    },
    {
     "name": "stdout",
     "output_type": "stream",
     "text": [
      "INFO:tensorflow:Reduce to /job:localhost/replica:0/task:0/device:CPU:0 then broadcast to ('/job:localhost/replica:0/task:0/device:CPU:0',).\n"
     ]
    },
    {
     "name": "stderr",
     "output_type": "stream",
     "text": [
      "INFO:tensorflow:Reduce to /job:localhost/replica:0/task:0/device:CPU:0 then broadcast to ('/job:localhost/replica:0/task:0/device:CPU:0',).\n"
     ]
    },
    {
     "name": "stdout",
     "output_type": "stream",
     "text": [
      "Epoch 1/3\n"
     ]
    },
    {
     "name": "stderr",
     "output_type": "stream",
     "text": [
      "2022-03-20 14:02:41.101033: I tensorflow/stream_executor/cuda/cuda_blas.cc:1774] TensorFloat-32 will be used for the matrix multiplication. This will only be logged once.\n"
     ]
    },
    {
     "name": "stdout",
     "output_type": "stream",
     "text": [
      "1000/1000 [==============================] - 54s 54ms/step - loss: -0.6290 - metric/ndcg_1: 0.2811 - metric/ndcg_5: 0.3035 - metric/ndcg_10: 0.3310 - metric/ndcg: 0.6295 - val_loss: -0.6512 - val_metric/ndcg_1: 0.3403 - val_metric/ndcg_5: 0.3440 - val_metric/ndcg_10: 0.3639 - val_metric/ndcg: 0.6512\n",
      "Epoch 2/3\n",
      "1000/1000 [==============================] - 40s 40ms/step - loss: -0.6388 - metric/ndcg_1: 0.3008 - metric/ndcg_5: 0.3227 - metric/ndcg_10: 0.3488 - metric/ndcg: 0.6391 - val_loss: -0.6603 - val_metric/ndcg_1: 0.3255 - val_metric/ndcg_5: 0.3547 - val_metric/ndcg_10: 0.3820 - val_metric/ndcg: 0.6604\n",
      "Epoch 3/3\n",
      "1000/1000 [==============================] - 40s 40ms/step - loss: -0.6360 - metric/ndcg_1: 0.2897 - metric/ndcg_5: 0.3121 - metric/ndcg_10: 0.3406 - metric/ndcg: 0.6362 - val_loss: -0.6554 - val_metric/ndcg_1: 0.3320 - val_metric/ndcg_5: 0.3459 - val_metric/ndcg_10: 0.3713 - val_metric/ndcg: 0.6555\n"
     ]
    },
    {
     "name": "stderr",
     "output_type": "stream",
     "text": [
      "2022-03-20 14:04:52.077768: W tensorflow/python/util/util.cc:368] Sets are not currently considered sequences, but this may change in the future, so consider avoiding using them.\n"
     ]
    },
    {
     "name": "stdout",
     "output_type": "stream",
     "text": [
      "INFO:tensorflow:Assets written to: mslr_keras/base_model/export/latest_model/assets\n"
     ]
    },
    {
     "name": "stderr",
     "output_type": "stream",
     "text": [
      "INFO:tensorflow:Assets written to: mslr_keras/base_model/export/latest_model/assets\n"
     ]
    }
   ],
   "source": [
    "# 基线模型，参数未调优\n",
    "config = {\n",
    "    'train_input': '/home/guhangsong/Data/MSLR/Fold1/train.tfrecord',\n",
    "    'vali_input': '/home/guhangsong/Data/MSLR/Fold1/vali.tfrecord',\n",
    "    'test_input': '/home/guhangsong/Data/MSLR/Fold1/test.tfrecord',\n",
    "    'train_batch_size': 32,\n",
    "    'valid_batch_size': 32,\n",
    "    'list_size': None,\n",
    "    'model_dir': 'mslr_keras/base_model',\n",
    "    'num_epochs': 3,\n",
    "    'steps_per_epoch': 1000,\n",
    "    'validation_steps': 100,\n",
    "    'learning_rate': 0.05,\n",
    "    'optimizer': 'adam',\n",
    "    'loss': 'approx_ndcg_loss',\n",
    "    'strategy': 'MirroredStrategy',\n",
    "    'hidden_layer_dims': [64, 32, 16],\n",
    "    'dropout': 0.5,\n",
    "    'name': 'mslr_dnn_base_model',\n",
    "}\n",
    "train_and_validate(config)"
   ]
  },
  {
   "cell_type": "code",
   "execution_count": 33,
   "metadata": {},
   "outputs": [
    {
     "name": "stdout",
     "output_type": "stream",
     "text": [
      "INFO:tensorflow:Using MirroredStrategy with devices ('/job:localhost/replica:0/task:0/device:GPU:0',)\n"
     ]
    },
    {
     "name": "stderr",
     "output_type": "stream",
     "text": [
      "INFO:tensorflow:Using MirroredStrategy with devices ('/job:localhost/replica:0/task:0/device:GPU:0',)\n"
     ]
    },
    {
     "name": "stdout",
     "output_type": "stream",
     "text": [
      "Epoch 1/3\n",
      "1000/1000 [==============================] - 56s 56ms/step - loss: 14.3797 - metric/ndcg_1: 0.2844 - metric/ndcg_5: 0.3089 - metric/ndcg_10: 0.3381 - metric/ndcg: 0.6347 - val_loss: 17.7343 - val_metric/ndcg_1: 0.3464 - val_metric/ndcg_5: 0.3619 - val_metric/ndcg_10: 0.3878 - val_metric/ndcg: 0.6628\n",
      "Epoch 2/3\n",
      "1000/1000 [==============================] - 42s 42ms/step - loss: 14.1633 - metric/ndcg_1: 0.2971 - metric/ndcg_5: 0.3233 - metric/ndcg_10: 0.3532 - metric/ndcg: 0.6429 - val_loss: 15.8657 - val_metric/ndcg_1: 0.2817 - val_metric/ndcg_5: 0.3072 - val_metric/ndcg_10: 0.3370 - val_metric/ndcg: 0.6366\n",
      "Epoch 3/3\n",
      "1000/1000 [==============================] - 42s 42ms/step - loss: 14.1073 - metric/ndcg_1: 0.3064 - metric/ndcg_5: 0.3274 - metric/ndcg_10: 0.3564 - metric/ndcg: 0.6452 - val_loss: 15.5225 - val_metric/ndcg_1: 0.2812 - val_metric/ndcg_5: 0.3089 - val_metric/ndcg_10: 0.3407 - val_metric/ndcg: 0.6388\n",
      "INFO:tensorflow:Assets written to: mslr_keras/pairwise_hinge_model/export/latest_model/assets\n"
     ]
    },
    {
     "name": "stderr",
     "output_type": "stream",
     "text": [
      "INFO:tensorflow:Assets written to: mslr_keras/pairwise_hinge_model/export/latest_model/assets\n"
     ]
    }
   ],
   "source": [
    "# 损失函数为pairwise_hinge\n",
    "config = {\n",
    "    'train_input': '/home/guhangsong/Data/MSLR/Fold1/train.tfrecord',\n",
    "    'vali_input': '/home/guhangsong/Data/MSLR/Fold1/vali.tfrecord',\n",
    "    'test_input': '/home/guhangsong/Data/MSLR/Fold1/test.tfrecord',\n",
    "    'train_batch_size': 32,\n",
    "    'valid_batch_size': 32,\n",
    "    'list_size': None,\n",
    "    'model_dir': 'mslr_keras/pairwise_hinge_model',\n",
    "    'num_epochs': 3,\n",
    "    'steps_per_epoch': 1000,\n",
    "    'validation_steps': 100,\n",
    "    'learning_rate': 0.05,\n",
    "    'optimizer': 'adam',\n",
    "    'loss': 'pairwise_hinge_loss',\n",
    "    'strategy': 'MirroredStrategy',\n",
    "    'hidden_layer_dims': [64, 32, 16],\n",
    "    'dropout': 0.5,\n",
    "    'name': 'mslr_dnn_pairwise_hinge_model',\n",
    "}\n",
    "train_and_validate(config)"
   ]
  },
  {
   "cell_type": "code",
   "execution_count": 6,
   "metadata": {},
   "outputs": [
    {
     "name": "stdout",
     "output_type": "stream",
     "text": [
      "INFO:tensorflow:Using MirroredStrategy with devices ('/job:localhost/replica:0/task:0/device:GPU:0',)\n"
     ]
    },
    {
     "name": "stderr",
     "output_type": "stream",
     "text": [
      "2022-03-20 14:34:07.064035: I tensorflow/stream_executor/cuda/cuda_gpu_executor.cc:925] could not open file to read NUMA node: /sys/bus/pci/devices/0000:09:00.0/numa_node\n",
      "Your kernel may have been built without NUMA support.\n",
      "2022-03-20 14:34:07.083340: I tensorflow/stream_executor/cuda/cuda_gpu_executor.cc:925] could not open file to read NUMA node: /sys/bus/pci/devices/0000:09:00.0/numa_node\n",
      "Your kernel may have been built without NUMA support.\n",
      "2022-03-20 14:34:07.083660: I tensorflow/stream_executor/cuda/cuda_gpu_executor.cc:925] could not open file to read NUMA node: /sys/bus/pci/devices/0000:09:00.0/numa_node\n",
      "Your kernel may have been built without NUMA support.\n",
      "2022-03-20 14:34:07.084198: I tensorflow/core/platform/cpu_feature_guard.cc:151] This TensorFlow binary is optimized with oneAPI Deep Neural Network Library (oneDNN) to use the following CPU instructions in performance-critical operations:  SSE4.1 SSE4.2 AVX AVX2 FMA\n",
      "To enable them in other operations, rebuild TensorFlow with the appropriate compiler flags.\n",
      "2022-03-20 14:34:07.085934: I tensorflow/stream_executor/cuda/cuda_gpu_executor.cc:925] could not open file to read NUMA node: /sys/bus/pci/devices/0000:09:00.0/numa_node\n",
      "Your kernel may have been built without NUMA support.\n",
      "2022-03-20 14:34:07.086468: I tensorflow/stream_executor/cuda/cuda_gpu_executor.cc:925] could not open file to read NUMA node: /sys/bus/pci/devices/0000:09:00.0/numa_node\n",
      "Your kernel may have been built without NUMA support.\n",
      "2022-03-20 14:34:07.086847: I tensorflow/stream_executor/cuda/cuda_gpu_executor.cc:925] could not open file to read NUMA node: /sys/bus/pci/devices/0000:09:00.0/numa_node\n",
      "Your kernel may have been built without NUMA support.\n",
      "2022-03-20 14:34:07.641607: I tensorflow/stream_executor/cuda/cuda_gpu_executor.cc:925] could not open file to read NUMA node: /sys/bus/pci/devices/0000:09:00.0/numa_node\n",
      "Your kernel may have been built without NUMA support.\n",
      "2022-03-20 14:34:07.642023: I tensorflow/stream_executor/cuda/cuda_gpu_executor.cc:925] could not open file to read NUMA node: /sys/bus/pci/devices/0000:09:00.0/numa_node\n",
      "Your kernel may have been built without NUMA support.\n",
      "2022-03-20 14:34:07.642050: I tensorflow/core/common_runtime/gpu/gpu_device.cc:1609] Could not identify NUMA node of platform GPU id 0, defaulting to 0.  Your kernel may not have been built with NUMA support.\n",
      "2022-03-20 14:34:07.642326: I tensorflow/stream_executor/cuda/cuda_gpu_executor.cc:925] could not open file to read NUMA node: /sys/bus/pci/devices/0000:09:00.0/numa_node\n",
      "Your kernel may have been built without NUMA support.\n",
      "2022-03-20 14:34:07.642369: I tensorflow/core/common_runtime/gpu/gpu_device.cc:1525] Created device /job:localhost/replica:0/task:0/device:GPU:0 with 8447 MB memory:  -> device: 0, name: NVIDIA GeForce RTX 3080 Ti, pci bus id: 0000:09:00.0, compute capability: 8.6\n"
     ]
    },
    {
     "name": "stdout",
     "output_type": "stream",
     "text": [
      "INFO:tensorflow:Reduce to /job:localhost/replica:0/task:0/device:CPU:0 then broadcast to ('/job:localhost/replica:0/task:0/device:CPU:0',).\n"
     ]
    },
    {
     "name": "stderr",
     "output_type": "stream",
     "text": [
      "INFO:tensorflow:Reduce to /job:localhost/replica:0/task:0/device:CPU:0 then broadcast to ('/job:localhost/replica:0/task:0/device:CPU:0',).\n"
     ]
    },
    {
     "name": "stdout",
     "output_type": "stream",
     "text": [
      "INFO:tensorflow:Reduce to /job:localhost/replica:0/task:0/device:CPU:0 then broadcast to ('/job:localhost/replica:0/task:0/device:CPU:0',).\n"
     ]
    },
    {
     "name": "stderr",
     "output_type": "stream",
     "text": [
      "INFO:tensorflow:Reduce to /job:localhost/replica:0/task:0/device:CPU:0 then broadcast to ('/job:localhost/replica:0/task:0/device:CPU:0',).\n"
     ]
    },
    {
     "name": "stdout",
     "output_type": "stream",
     "text": [
      "INFO:tensorflow:Reduce to /job:localhost/replica:0/task:0/device:CPU:0 then broadcast to ('/job:localhost/replica:0/task:0/device:CPU:0',).\n"
     ]
    },
    {
     "name": "stderr",
     "output_type": "stream",
     "text": [
      "INFO:tensorflow:Reduce to /job:localhost/replica:0/task:0/device:CPU:0 then broadcast to ('/job:localhost/replica:0/task:0/device:CPU:0',).\n"
     ]
    },
    {
     "name": "stdout",
     "output_type": "stream",
     "text": [
      "INFO:tensorflow:Reduce to /job:localhost/replica:0/task:0/device:CPU:0 then broadcast to ('/job:localhost/replica:0/task:0/device:CPU:0',).\n"
     ]
    },
    {
     "name": "stderr",
     "output_type": "stream",
     "text": [
      "INFO:tensorflow:Reduce to /job:localhost/replica:0/task:0/device:CPU:0 then broadcast to ('/job:localhost/replica:0/task:0/device:CPU:0',).\n"
     ]
    },
    {
     "name": "stdout",
     "output_type": "stream",
     "text": [
      "INFO:tensorflow:Reduce to /job:localhost/replica:0/task:0/device:CPU:0 then broadcast to ('/job:localhost/replica:0/task:0/device:CPU:0',).\n"
     ]
    },
    {
     "name": "stderr",
     "output_type": "stream",
     "text": [
      "INFO:tensorflow:Reduce to /job:localhost/replica:0/task:0/device:CPU:0 then broadcast to ('/job:localhost/replica:0/task:0/device:CPU:0',).\n"
     ]
    },
    {
     "name": "stdout",
     "output_type": "stream",
     "text": [
      "INFO:tensorflow:Reduce to /job:localhost/replica:0/task:0/device:CPU:0 then broadcast to ('/job:localhost/replica:0/task:0/device:CPU:0',).\n"
     ]
    },
    {
     "name": "stderr",
     "output_type": "stream",
     "text": [
      "INFO:tensorflow:Reduce to /job:localhost/replica:0/task:0/device:CPU:0 then broadcast to ('/job:localhost/replica:0/task:0/device:CPU:0',).\n"
     ]
    },
    {
     "name": "stdout",
     "output_type": "stream",
     "text": [
      "INFO:tensorflow:Reduce to /job:localhost/replica:0/task:0/device:CPU:0 then broadcast to ('/job:localhost/replica:0/task:0/device:CPU:0',).\n"
     ]
    },
    {
     "name": "stderr",
     "output_type": "stream",
     "text": [
      "INFO:tensorflow:Reduce to /job:localhost/replica:0/task:0/device:CPU:0 then broadcast to ('/job:localhost/replica:0/task:0/device:CPU:0',).\n"
     ]
    },
    {
     "name": "stdout",
     "output_type": "stream",
     "text": [
      "INFO:tensorflow:Reduce to /job:localhost/replica:0/task:0/device:CPU:0 then broadcast to ('/job:localhost/replica:0/task:0/device:CPU:0',).\n"
     ]
    },
    {
     "name": "stderr",
     "output_type": "stream",
     "text": [
      "INFO:tensorflow:Reduce to /job:localhost/replica:0/task:0/device:CPU:0 then broadcast to ('/job:localhost/replica:0/task:0/device:CPU:0',).\n"
     ]
    },
    {
     "name": "stdout",
     "output_type": "stream",
     "text": [
      "INFO:tensorflow:Reduce to /job:localhost/replica:0/task:0/device:CPU:0 then broadcast to ('/job:localhost/replica:0/task:0/device:CPU:0',).\n"
     ]
    },
    {
     "name": "stderr",
     "output_type": "stream",
     "text": [
      "INFO:tensorflow:Reduce to /job:localhost/replica:0/task:0/device:CPU:0 then broadcast to ('/job:localhost/replica:0/task:0/device:CPU:0',).\n"
     ]
    },
    {
     "name": "stdout",
     "output_type": "stream",
     "text": [
      "INFO:tensorflow:Reduce to /job:localhost/replica:0/task:0/device:CPU:0 then broadcast to ('/job:localhost/replica:0/task:0/device:CPU:0',).\n"
     ]
    },
    {
     "name": "stderr",
     "output_type": "stream",
     "text": [
      "INFO:tensorflow:Reduce to /job:localhost/replica:0/task:0/device:CPU:0 then broadcast to ('/job:localhost/replica:0/task:0/device:CPU:0',).\n"
     ]
    },
    {
     "name": "stdout",
     "output_type": "stream",
     "text": [
      "Epoch 1/3\n"
     ]
    },
    {
     "name": "stderr",
     "output_type": "stream",
     "text": [
      "2022-03-20 14:34:22.889835: I tensorflow/stream_executor/cuda/cuda_blas.cc:1774] TensorFloat-32 will be used for the matrix multiplication. This will only be logged once.\n"
     ]
    },
    {
     "name": "stdout",
     "output_type": "stream",
     "text": [
      "1000/1000 [==============================] - 54s 54ms/step - loss: 11.0751 - metric/ndcg_1: 0.2772 - metric/ndcg_5: 0.3029 - metric/ndcg_10: 0.3322 - metric/ndcg: 0.6316 - val_loss: 13.4105 - val_metric/ndcg_1: 0.3443 - val_metric/ndcg_5: 0.3675 - val_metric/ndcg_10: 0.3932 - val_metric/ndcg: 0.6659\n",
      "Epoch 2/3\n",
      "1000/1000 [==============================] - 40s 40ms/step - loss: 10.9214 - metric/ndcg_1: 0.3006 - metric/ndcg_5: 0.3248 - metric/ndcg_10: 0.3540 - metric/ndcg: 0.6432 - val_loss: 15.8796 - val_metric/ndcg_1: 0.2474 - val_metric/ndcg_5: 0.2768 - val_metric/ndcg_10: 0.3095 - val_metric/ndcg: 0.6236\n",
      "Epoch 3/3\n",
      "1000/1000 [==============================] - 40s 40ms/step - loss: 10.9036 - metric/ndcg_1: 0.3071 - metric/ndcg_5: 0.3308 - metric/ndcg_10: 0.3590 - metric/ndcg: 0.6464 - val_loss: 13.0828 - val_metric/ndcg_1: 0.3522 - val_metric/ndcg_5: 0.3607 - val_metric/ndcg_10: 0.3843 - val_metric/ndcg: 0.6617\n"
     ]
    },
    {
     "name": "stderr",
     "output_type": "stream",
     "text": [
      "2022-03-20 14:36:33.606922: W tensorflow/python/util/util.cc:368] Sets are not currently considered sequences, but this may change in the future, so consider avoiding using them.\n"
     ]
    },
    {
     "name": "stdout",
     "output_type": "stream",
     "text": [
      "INFO:tensorflow:Assets written to: mslr_keras/pairwise_logistic_model/export/latest_model/assets\n"
     ]
    },
    {
     "name": "stderr",
     "output_type": "stream",
     "text": [
      "INFO:tensorflow:Assets written to: mslr_keras/pairwise_logistic_model/export/latest_model/assets\n"
     ]
    }
   ],
   "source": [
    "# 损失函数为pairwise_logistic\n",
    "config = {\n",
    "    'train_input': '/home/guhangsong/Data/MSLR/Fold1/train.tfrecord',\n",
    "    'vali_input': '/home/guhangsong/Data/MSLR/Fold1/vali.tfrecord',\n",
    "    'test_input': '/home/guhangsong/Data/MSLR/Fold1/test.tfrecord',\n",
    "    'train_batch_size': 32,\n",
    "    'valid_batch_size': 32,\n",
    "    'list_size': None,\n",
    "    'model_dir': 'mslr_keras/pairwise_logistic_model',\n",
    "    'num_epochs': 3,\n",
    "    'steps_per_epoch': 1000,\n",
    "    'validation_steps': 100,\n",
    "    'learning_rate': 0.05,\n",
    "    'optimizer': 'adam',\n",
    "    'loss': 'pairwise_logistic_loss',\n",
    "    'strategy': 'MirroredStrategy',\n",
    "    'hidden_layer_dims': [64, 32, 16],\n",
    "    'dropout': 0.5,\n",
    "    'name': 'mslr_dnn_pairwise_logistic_model',\n",
    "}\n",
    "train_and_validate(config)"
   ]
  },
  {
   "cell_type": "code",
   "execution_count": 35,
   "metadata": {},
   "outputs": [
    {
     "name": "stdout",
     "output_type": "stream",
     "text": [
      "INFO:tensorflow:Using MirroredStrategy with devices ('/job:localhost/replica:0/task:0/device:GPU:0',)\n"
     ]
    },
    {
     "name": "stderr",
     "output_type": "stream",
     "text": [
      "INFO:tensorflow:Using MirroredStrategy with devices ('/job:localhost/replica:0/task:0/device:GPU:0',)\n"
     ]
    },
    {
     "name": "stdout",
     "output_type": "stream",
     "text": [
      "Epoch 1/3\n",
      "1000/1000 [==============================] - 55s 55ms/step - loss: 1434.7261 - metric/ndcg_1: 0.2255 - metric/ndcg_5: 0.2531 - metric/ndcg_10: 0.2818 - metric/ndcg: 0.6042 - val_loss: 1230.4708 - val_metric/ndcg_1: 0.3207 - val_metric/ndcg_5: 0.3427 - val_metric/ndcg_10: 0.3700 - val_metric/ndcg: 0.6532\n",
      "Epoch 2/3\n",
      "1000/1000 [==============================] - 41s 41ms/step - loss: 1435.3588 - metric/ndcg_1: 0.2422 - metric/ndcg_5: 0.2760 - metric/ndcg_10: 0.3096 - metric/ndcg: 0.6201 - val_loss: 1230.6439 - val_metric/ndcg_1: 0.2099 - val_metric/ndcg_5: 0.2526 - val_metric/ndcg_10: 0.2907 - val_metric/ndcg: 0.6197\n",
      "Epoch 3/3\n",
      "1000/1000 [==============================] - 41s 41ms/step - loss: 1442.2844 - metric/ndcg_1: 0.2242 - metric/ndcg_5: 0.2624 - metric/ndcg_10: 0.2983 - metric/ndcg: 0.6169 - val_loss: 1231.4128 - val_metric/ndcg_1: 0.1569 - val_metric/ndcg_5: 0.1923 - val_metric/ndcg_10: 0.2229 - val_metric/ndcg: 0.5775\n",
      "INFO:tensorflow:Assets written to: mslr_keras/list_mle_model/export/latest_model/assets\n"
     ]
    },
    {
     "name": "stderr",
     "output_type": "stream",
     "text": [
      "INFO:tensorflow:Assets written to: mslr_keras/list_mle_model/export/latest_model/assets\n"
     ]
    }
   ],
   "source": [
    "# 损失函数为list_mle_loss\n",
    "config = {\n",
    "    'train_input': '/home/guhangsong/Data/MSLR/Fold1/train.tfrecord',\n",
    "    'vali_input': '/home/guhangsong/Data/MSLR/Fold1/vali.tfrecord',\n",
    "    'test_input': '/home/guhangsong/Data/MSLR/Fold1/test.tfrecord',\n",
    "    'train_batch_size': 32,\n",
    "    'valid_batch_size': 32,\n",
    "    'list_size': None,\n",
    "    'model_dir': 'mslr_keras/list_mle_model',\n",
    "    'num_epochs': 3,\n",
    "    'steps_per_epoch': 1000,\n",
    "    'validation_steps': 100,\n",
    "    'learning_rate': 0.05,\n",
    "    'optimizer': 'adam',\n",
    "    'loss': 'list_mle_loss',\n",
    "    'strategy': 'MirroredStrategy',\n",
    "    'hidden_layer_dims': [64, 32, 16],\n",
    "    'dropout': 0.5,\n",
    "    'name': 'mslr_dnn_list_mle_model',\n",
    "}\n",
    "train_and_validate(config)"
   ]
  },
  {
   "cell_type": "code",
   "execution_count": 36,
   "metadata": {},
   "outputs": [
    {
     "name": "stdout",
     "output_type": "stream",
     "text": [
      "INFO:tensorflow:Using MirroredStrategy with devices ('/job:localhost/replica:0/task:0/device:GPU:0',)\n"
     ]
    },
    {
     "name": "stderr",
     "output_type": "stream",
     "text": [
      "INFO:tensorflow:Using MirroredStrategy with devices ('/job:localhost/replica:0/task:0/device:GPU:0',)\n"
     ]
    },
    {
     "name": "stdout",
     "output_type": "stream",
     "text": [
      "Epoch 1/3\n",
      "1000/1000 [==============================] - 58s 58ms/step - loss: -0.6394 - metric/ndcg_1: 0.3116 - metric/ndcg_5: 0.3303 - metric/ndcg_10: 0.3570 - metric/ndcg: 0.6443 - val_loss: -0.5958 - val_metric/ndcg_1: 0.3931 - val_metric/ndcg_5: 0.3849 - val_metric/ndcg_10: 0.4060 - val_metric/ndcg: 0.6745\n",
      "Epoch 2/3\n",
      "1000/1000 [==============================] - 44s 44ms/step - loss: -0.6494 - metric/ndcg_1: 0.3332 - metric/ndcg_5: 0.3507 - metric/ndcg_10: 0.3761 - metric/ndcg: 0.6541 - val_loss: -0.6649 - val_metric/ndcg_1: 0.3937 - val_metric/ndcg_5: 0.3920 - val_metric/ndcg_10: 0.4149 - val_metric/ndcg: 0.6795\n",
      "Epoch 3/3\n",
      "1000/1000 [==============================] - 46s 46ms/step - loss: -0.6544 - metric/ndcg_1: 0.3454 - metric/ndcg_5: 0.3605 - metric/ndcg_10: 0.3852 - metric/ndcg: 0.6593 - val_loss: -0.6657 - val_metric/ndcg_1: 0.3942 - val_metric/ndcg_5: 0.3910 - val_metric/ndcg_10: 0.4138 - val_metric/ndcg: 0.6784\n",
      "INFO:tensorflow:Assets written to: mslr_keras/gumbel_approx_ndcg_model/export/latest_model/assets\n"
     ]
    },
    {
     "name": "stderr",
     "output_type": "stream",
     "text": [
      "INFO:tensorflow:Assets written to: mslr_keras/gumbel_approx_ndcg_model/export/latest_model/assets\n"
     ]
    }
   ],
   "source": [
    "# 损失函数为gumbel_approx_ndcg_loss\n",
    "config = {\n",
    "    'train_input': '/home/guhangsong/Data/MSLR/Fold1/train.tfrecord',\n",
    "    'vali_input': '/home/guhangsong/Data/MSLR/Fold1/vali.tfrecord',\n",
    "    'test_input': '/home/guhangsong/Data/MSLR/Fold1/test.tfrecord',\n",
    "    'train_batch_size': 32,\n",
    "    'valid_batch_size': 32,\n",
    "    'list_size': None,\n",
    "    'model_dir': 'mslr_keras/gumbel_approx_ndcg_model',\n",
    "    'num_epochs': 3,\n",
    "    'steps_per_epoch': 1000,\n",
    "    'validation_steps': 100,\n",
    "    'learning_rate': 0.05,\n",
    "    'optimizer': 'adam',\n",
    "    'loss': 'gumbel_approx_ndcg_loss',\n",
    "    'strategy': 'MirroredStrategy',\n",
    "    'hidden_layer_dims': [64, 32, 16],\n",
    "    'dropout': 0.5,\n",
    "    'name': 'mslr_dnn_gumbel_approx_ndcg_model',\n",
    "}\n",
    "train_and_validate(config)"
   ]
  },
  {
   "cell_type": "code",
   "execution_count": 6,
   "metadata": {},
   "outputs": [
    {
     "name": "stdout",
     "output_type": "stream",
     "text": [
      "INFO:tensorflow:Using MirroredStrategy with devices ('/job:localhost/replica:0/task:0/device:GPU:0',)\n"
     ]
    },
    {
     "name": "stderr",
     "output_type": "stream",
     "text": [
      "INFO:tensorflow:Using MirroredStrategy with devices ('/job:localhost/replica:0/task:0/device:GPU:0',)\n"
     ]
    },
    {
     "name": "stdout",
     "output_type": "stream",
     "text": [
      "WARNING:tensorflow:Unresolved object in checkpoint: (root).model.optimizer.iter\n"
     ]
    },
    {
     "name": "stderr",
     "output_type": "stream",
     "text": [
      "WARNING:tensorflow:Unresolved object in checkpoint: (root).model.optimizer.iter\n"
     ]
    },
    {
     "name": "stdout",
     "output_type": "stream",
     "text": [
      "WARNING:tensorflow:Unresolved object in checkpoint: (root).model.optimizer.beta_1\n"
     ]
    },
    {
     "name": "stderr",
     "output_type": "stream",
     "text": [
      "WARNING:tensorflow:Unresolved object in checkpoint: (root).model.optimizer.beta_1\n"
     ]
    },
    {
     "name": "stdout",
     "output_type": "stream",
     "text": [
      "WARNING:tensorflow:Unresolved object in checkpoint: (root).model.optimizer.beta_2\n"
     ]
    },
    {
     "name": "stderr",
     "output_type": "stream",
     "text": [
      "WARNING:tensorflow:Unresolved object in checkpoint: (root).model.optimizer.beta_2\n"
     ]
    },
    {
     "name": "stdout",
     "output_type": "stream",
     "text": [
      "WARNING:tensorflow:Unresolved object in checkpoint: (root).model.optimizer.decay\n"
     ]
    },
    {
     "name": "stderr",
     "output_type": "stream",
     "text": [
      "WARNING:tensorflow:Unresolved object in checkpoint: (root).model.optimizer.decay\n"
     ]
    },
    {
     "name": "stdout",
     "output_type": "stream",
     "text": [
      "WARNING:tensorflow:Unresolved object in checkpoint: (root).model.optimizer.learning_rate\n"
     ]
    },
    {
     "name": "stderr",
     "output_type": "stream",
     "text": [
      "WARNING:tensorflow:Unresolved object in checkpoint: (root).model.optimizer.learning_rate\n"
     ]
    },
    {
     "name": "stdout",
     "output_type": "stream",
     "text": [
      "WARNING:tensorflow:Unresolved object in checkpoint: (root).model.optimizer's state 'm' for (root).model.layer_with_weights-0.layer_with_weights-0.gamma\n"
     ]
    },
    {
     "name": "stderr",
     "output_type": "stream",
     "text": [
      "WARNING:tensorflow:Unresolved object in checkpoint: (root).model.optimizer's state 'm' for (root).model.layer_with_weights-0.layer_with_weights-0.gamma\n"
     ]
    },
    {
     "name": "stdout",
     "output_type": "stream",
     "text": [
      "WARNING:tensorflow:Unresolved object in checkpoint: (root).model.optimizer's state 'm' for (root).model.layer_with_weights-0.layer_with_weights-0.beta\n"
     ]
    },
    {
     "name": "stderr",
     "output_type": "stream",
     "text": [
      "WARNING:tensorflow:Unresolved object in checkpoint: (root).model.optimizer's state 'm' for (root).model.layer_with_weights-0.layer_with_weights-0.beta\n"
     ]
    },
    {
     "name": "stdout",
     "output_type": "stream",
     "text": [
      "WARNING:tensorflow:Unresolved object in checkpoint: (root).model.optimizer's state 'm' for (root).model.layer_with_weights-0.layer_with_weights-1.kernel\n"
     ]
    },
    {
     "name": "stderr",
     "output_type": "stream",
     "text": [
      "WARNING:tensorflow:Unresolved object in checkpoint: (root).model.optimizer's state 'm' for (root).model.layer_with_weights-0.layer_with_weights-1.kernel\n"
     ]
    },
    {
     "name": "stdout",
     "output_type": "stream",
     "text": [
      "WARNING:tensorflow:Unresolved object in checkpoint: (root).model.optimizer's state 'm' for (root).model.layer_with_weights-0.layer_with_weights-1.bias\n"
     ]
    },
    {
     "name": "stderr",
     "output_type": "stream",
     "text": [
      "WARNING:tensorflow:Unresolved object in checkpoint: (root).model.optimizer's state 'm' for (root).model.layer_with_weights-0.layer_with_weights-1.bias\n"
     ]
    },
    {
     "name": "stdout",
     "output_type": "stream",
     "text": [
      "WARNING:tensorflow:Unresolved object in checkpoint: (root).model.optimizer's state 'm' for (root).model.layer_with_weights-0.layer_with_weights-2.gamma\n"
     ]
    },
    {
     "name": "stderr",
     "output_type": "stream",
     "text": [
      "WARNING:tensorflow:Unresolved object in checkpoint: (root).model.optimizer's state 'm' for (root).model.layer_with_weights-0.layer_with_weights-2.gamma\n"
     ]
    },
    {
     "name": "stdout",
     "output_type": "stream",
     "text": [
      "WARNING:tensorflow:Unresolved object in checkpoint: (root).model.optimizer's state 'm' for (root).model.layer_with_weights-0.layer_with_weights-2.beta\n"
     ]
    },
    {
     "name": "stderr",
     "output_type": "stream",
     "text": [
      "WARNING:tensorflow:Unresolved object in checkpoint: (root).model.optimizer's state 'm' for (root).model.layer_with_weights-0.layer_with_weights-2.beta\n"
     ]
    },
    {
     "name": "stdout",
     "output_type": "stream",
     "text": [
      "WARNING:tensorflow:Unresolved object in checkpoint: (root).model.optimizer's state 'm' for (root).model.layer_with_weights-0.layer_with_weights-3.kernel\n"
     ]
    },
    {
     "name": "stderr",
     "output_type": "stream",
     "text": [
      "WARNING:tensorflow:Unresolved object in checkpoint: (root).model.optimizer's state 'm' for (root).model.layer_with_weights-0.layer_with_weights-3.kernel\n"
     ]
    },
    {
     "name": "stdout",
     "output_type": "stream",
     "text": [
      "WARNING:tensorflow:Unresolved object in checkpoint: (root).model.optimizer's state 'm' for (root).model.layer_with_weights-0.layer_with_weights-3.bias\n"
     ]
    },
    {
     "name": "stderr",
     "output_type": "stream",
     "text": [
      "WARNING:tensorflow:Unresolved object in checkpoint: (root).model.optimizer's state 'm' for (root).model.layer_with_weights-0.layer_with_weights-3.bias\n"
     ]
    },
    {
     "name": "stdout",
     "output_type": "stream",
     "text": [
      "WARNING:tensorflow:Unresolved object in checkpoint: (root).model.optimizer's state 'm' for (root).model.layer_with_weights-0.layer_with_weights-4.gamma\n"
     ]
    },
    {
     "name": "stderr",
     "output_type": "stream",
     "text": [
      "WARNING:tensorflow:Unresolved object in checkpoint: (root).model.optimizer's state 'm' for (root).model.layer_with_weights-0.layer_with_weights-4.gamma\n"
     ]
    },
    {
     "name": "stdout",
     "output_type": "stream",
     "text": [
      "WARNING:tensorflow:Unresolved object in checkpoint: (root).model.optimizer's state 'm' for (root).model.layer_with_weights-0.layer_with_weights-4.beta\n"
     ]
    },
    {
     "name": "stderr",
     "output_type": "stream",
     "text": [
      "WARNING:tensorflow:Unresolved object in checkpoint: (root).model.optimizer's state 'm' for (root).model.layer_with_weights-0.layer_with_weights-4.beta\n"
     ]
    },
    {
     "name": "stdout",
     "output_type": "stream",
     "text": [
      "WARNING:tensorflow:Unresolved object in checkpoint: (root).model.optimizer's state 'm' for (root).model.layer_with_weights-0.layer_with_weights-5.kernel\n"
     ]
    },
    {
     "name": "stderr",
     "output_type": "stream",
     "text": [
      "WARNING:tensorflow:Unresolved object in checkpoint: (root).model.optimizer's state 'm' for (root).model.layer_with_weights-0.layer_with_weights-5.kernel\n"
     ]
    },
    {
     "name": "stdout",
     "output_type": "stream",
     "text": [
      "WARNING:tensorflow:Unresolved object in checkpoint: (root).model.optimizer's state 'm' for (root).model.layer_with_weights-0.layer_with_weights-5.bias\n"
     ]
    },
    {
     "name": "stderr",
     "output_type": "stream",
     "text": [
      "WARNING:tensorflow:Unresolved object in checkpoint: (root).model.optimizer's state 'm' for (root).model.layer_with_weights-0.layer_with_weights-5.bias\n"
     ]
    },
    {
     "name": "stdout",
     "output_type": "stream",
     "text": [
      "WARNING:tensorflow:Unresolved object in checkpoint: (root).model.optimizer's state 'm' for (root).model.layer_with_weights-0.layer_with_weights-6.gamma\n"
     ]
    },
    {
     "name": "stderr",
     "output_type": "stream",
     "text": [
      "WARNING:tensorflow:Unresolved object in checkpoint: (root).model.optimizer's state 'm' for (root).model.layer_with_weights-0.layer_with_weights-6.gamma\n"
     ]
    },
    {
     "name": "stdout",
     "output_type": "stream",
     "text": [
      "WARNING:tensorflow:Unresolved object in checkpoint: (root).model.optimizer's state 'm' for (root).model.layer_with_weights-0.layer_with_weights-6.beta\n"
     ]
    },
    {
     "name": "stderr",
     "output_type": "stream",
     "text": [
      "WARNING:tensorflow:Unresolved object in checkpoint: (root).model.optimizer's state 'm' for (root).model.layer_with_weights-0.layer_with_weights-6.beta\n"
     ]
    },
    {
     "name": "stdout",
     "output_type": "stream",
     "text": [
      "WARNING:tensorflow:Unresolved object in checkpoint: (root).model.optimizer's state 'm' for (root).model.layer_with_weights-0.layer_with_weights-7.kernel\n"
     ]
    },
    {
     "name": "stderr",
     "output_type": "stream",
     "text": [
      "WARNING:tensorflow:Unresolved object in checkpoint: (root).model.optimizer's state 'm' for (root).model.layer_with_weights-0.layer_with_weights-7.kernel\n"
     ]
    },
    {
     "name": "stdout",
     "output_type": "stream",
     "text": [
      "WARNING:tensorflow:Unresolved object in checkpoint: (root).model.optimizer's state 'm' for (root).model.layer_with_weights-0.layer_with_weights-7.bias\n"
     ]
    },
    {
     "name": "stderr",
     "output_type": "stream",
     "text": [
      "WARNING:tensorflow:Unresolved object in checkpoint: (root).model.optimizer's state 'm' for (root).model.layer_with_weights-0.layer_with_weights-7.bias\n"
     ]
    },
    {
     "name": "stdout",
     "output_type": "stream",
     "text": [
      "WARNING:tensorflow:Unresolved object in checkpoint: (root).model.optimizer's state 'v' for (root).model.layer_with_weights-0.layer_with_weights-0.gamma\n"
     ]
    },
    {
     "name": "stderr",
     "output_type": "stream",
     "text": [
      "WARNING:tensorflow:Unresolved object in checkpoint: (root).model.optimizer's state 'v' for (root).model.layer_with_weights-0.layer_with_weights-0.gamma\n"
     ]
    },
    {
     "name": "stdout",
     "output_type": "stream",
     "text": [
      "WARNING:tensorflow:Unresolved object in checkpoint: (root).model.optimizer's state 'v' for (root).model.layer_with_weights-0.layer_with_weights-0.beta\n"
     ]
    },
    {
     "name": "stderr",
     "output_type": "stream",
     "text": [
      "WARNING:tensorflow:Unresolved object in checkpoint: (root).model.optimizer's state 'v' for (root).model.layer_with_weights-0.layer_with_weights-0.beta\n"
     ]
    },
    {
     "name": "stdout",
     "output_type": "stream",
     "text": [
      "WARNING:tensorflow:Unresolved object in checkpoint: (root).model.optimizer's state 'v' for (root).model.layer_with_weights-0.layer_with_weights-1.kernel\n"
     ]
    },
    {
     "name": "stderr",
     "output_type": "stream",
     "text": [
      "WARNING:tensorflow:Unresolved object in checkpoint: (root).model.optimizer's state 'v' for (root).model.layer_with_weights-0.layer_with_weights-1.kernel\n"
     ]
    },
    {
     "name": "stdout",
     "output_type": "stream",
     "text": [
      "WARNING:tensorflow:Unresolved object in checkpoint: (root).model.optimizer's state 'v' for (root).model.layer_with_weights-0.layer_with_weights-1.bias\n"
     ]
    },
    {
     "name": "stderr",
     "output_type": "stream",
     "text": [
      "WARNING:tensorflow:Unresolved object in checkpoint: (root).model.optimizer's state 'v' for (root).model.layer_with_weights-0.layer_with_weights-1.bias\n"
     ]
    },
    {
     "name": "stdout",
     "output_type": "stream",
     "text": [
      "WARNING:tensorflow:Unresolved object in checkpoint: (root).model.optimizer's state 'v' for (root).model.layer_with_weights-0.layer_with_weights-2.gamma\n"
     ]
    },
    {
     "name": "stderr",
     "output_type": "stream",
     "text": [
      "WARNING:tensorflow:Unresolved object in checkpoint: (root).model.optimizer's state 'v' for (root).model.layer_with_weights-0.layer_with_weights-2.gamma\n"
     ]
    },
    {
     "name": "stdout",
     "output_type": "stream",
     "text": [
      "WARNING:tensorflow:Unresolved object in checkpoint: (root).model.optimizer's state 'v' for (root).model.layer_with_weights-0.layer_with_weights-2.beta\n"
     ]
    },
    {
     "name": "stderr",
     "output_type": "stream",
     "text": [
      "WARNING:tensorflow:Unresolved object in checkpoint: (root).model.optimizer's state 'v' for (root).model.layer_with_weights-0.layer_with_weights-2.beta\n"
     ]
    },
    {
     "name": "stdout",
     "output_type": "stream",
     "text": [
      "WARNING:tensorflow:Unresolved object in checkpoint: (root).model.optimizer's state 'v' for (root).model.layer_with_weights-0.layer_with_weights-3.kernel\n"
     ]
    },
    {
     "name": "stderr",
     "output_type": "stream",
     "text": [
      "WARNING:tensorflow:Unresolved object in checkpoint: (root).model.optimizer's state 'v' for (root).model.layer_with_weights-0.layer_with_weights-3.kernel\n"
     ]
    },
    {
     "name": "stdout",
     "output_type": "stream",
     "text": [
      "WARNING:tensorflow:Unresolved object in checkpoint: (root).model.optimizer's state 'v' for (root).model.layer_with_weights-0.layer_with_weights-3.bias\n"
     ]
    },
    {
     "name": "stderr",
     "output_type": "stream",
     "text": [
      "WARNING:tensorflow:Unresolved object in checkpoint: (root).model.optimizer's state 'v' for (root).model.layer_with_weights-0.layer_with_weights-3.bias\n"
     ]
    },
    {
     "name": "stdout",
     "output_type": "stream",
     "text": [
      "WARNING:tensorflow:Unresolved object in checkpoint: (root).model.optimizer's state 'v' for (root).model.layer_with_weights-0.layer_with_weights-4.gamma\n"
     ]
    },
    {
     "name": "stderr",
     "output_type": "stream",
     "text": [
      "WARNING:tensorflow:Unresolved object in checkpoint: (root).model.optimizer's state 'v' for (root).model.layer_with_weights-0.layer_with_weights-4.gamma\n"
     ]
    },
    {
     "name": "stdout",
     "output_type": "stream",
     "text": [
      "WARNING:tensorflow:Unresolved object in checkpoint: (root).model.optimizer's state 'v' for (root).model.layer_with_weights-0.layer_with_weights-4.beta\n"
     ]
    },
    {
     "name": "stderr",
     "output_type": "stream",
     "text": [
      "WARNING:tensorflow:Unresolved object in checkpoint: (root).model.optimizer's state 'v' for (root).model.layer_with_weights-0.layer_with_weights-4.beta\n"
     ]
    },
    {
     "name": "stdout",
     "output_type": "stream",
     "text": [
      "WARNING:tensorflow:Unresolved object in checkpoint: (root).model.optimizer's state 'v' for (root).model.layer_with_weights-0.layer_with_weights-5.kernel\n"
     ]
    },
    {
     "name": "stderr",
     "output_type": "stream",
     "text": [
      "WARNING:tensorflow:Unresolved object in checkpoint: (root).model.optimizer's state 'v' for (root).model.layer_with_weights-0.layer_with_weights-5.kernel\n"
     ]
    },
    {
     "name": "stdout",
     "output_type": "stream",
     "text": [
      "WARNING:tensorflow:Unresolved object in checkpoint: (root).model.optimizer's state 'v' for (root).model.layer_with_weights-0.layer_with_weights-5.bias\n"
     ]
    },
    {
     "name": "stderr",
     "output_type": "stream",
     "text": [
      "WARNING:tensorflow:Unresolved object in checkpoint: (root).model.optimizer's state 'v' for (root).model.layer_with_weights-0.layer_with_weights-5.bias\n"
     ]
    },
    {
     "name": "stdout",
     "output_type": "stream",
     "text": [
      "WARNING:tensorflow:Unresolved object in checkpoint: (root).model.optimizer's state 'v' for (root).model.layer_with_weights-0.layer_with_weights-6.gamma\n"
     ]
    },
    {
     "name": "stderr",
     "output_type": "stream",
     "text": [
      "WARNING:tensorflow:Unresolved object in checkpoint: (root).model.optimizer's state 'v' for (root).model.layer_with_weights-0.layer_with_weights-6.gamma\n"
     ]
    },
    {
     "name": "stdout",
     "output_type": "stream",
     "text": [
      "WARNING:tensorflow:Unresolved object in checkpoint: (root).model.optimizer's state 'v' for (root).model.layer_with_weights-0.layer_with_weights-6.beta\n"
     ]
    },
    {
     "name": "stderr",
     "output_type": "stream",
     "text": [
      "WARNING:tensorflow:Unresolved object in checkpoint: (root).model.optimizer's state 'v' for (root).model.layer_with_weights-0.layer_with_weights-6.beta\n"
     ]
    },
    {
     "name": "stdout",
     "output_type": "stream",
     "text": [
      "WARNING:tensorflow:Unresolved object in checkpoint: (root).model.optimizer's state 'v' for (root).model.layer_with_weights-0.layer_with_weights-7.kernel\n"
     ]
    },
    {
     "name": "stderr",
     "output_type": "stream",
     "text": [
      "WARNING:tensorflow:Unresolved object in checkpoint: (root).model.optimizer's state 'v' for (root).model.layer_with_weights-0.layer_with_weights-7.kernel\n"
     ]
    },
    {
     "name": "stdout",
     "output_type": "stream",
     "text": [
      "WARNING:tensorflow:Unresolved object in checkpoint: (root).model.optimizer's state 'v' for (root).model.layer_with_weights-0.layer_with_weights-7.bias\n"
     ]
    },
    {
     "name": "stderr",
     "output_type": "stream",
     "text": [
      "WARNING:tensorflow:Unresolved object in checkpoint: (root).model.optimizer's state 'v' for (root).model.layer_with_weights-0.layer_with_weights-7.bias\n"
     ]
    },
    {
     "name": "stdout",
     "output_type": "stream",
     "text": [
      "WARNING:tensorflow:A checkpoint was restored (e.g. tf.train.Checkpoint.restore or tf.keras.Model.load_weights) but not all checkpointed values were used. See above for specific issues. Use expect_partial() on the load status object, e.g. tf.train.Checkpoint.restore(...).expect_partial(), to silence these warnings, or use assert_consumed() to make the check explicit. See https://www.tensorflow.org/guide/checkpoint#loading_mechanics for details.\n"
     ]
    },
    {
     "name": "stderr",
     "output_type": "stream",
     "text": [
      "WARNING:tensorflow:A checkpoint was restored (e.g. tf.train.Checkpoint.restore or tf.keras.Model.load_weights) but not all checkpointed values were used. See above for specific issues. Use expect_partial() on the load status object, e.g. tf.train.Checkpoint.restore(...).expect_partial(), to silence these warnings, or use assert_consumed() to make the check explicit. See https://www.tensorflow.org/guide/checkpoint#loading_mechanics for details.\n"
     ]
    },
    {
     "name": "stdout",
     "output_type": "stream",
     "text": [
      "Epoch 1/2\n"
     ]
    },
    {
     "name": "stderr",
     "output_type": "stream",
     "text": [
      "2022-03-20 14:16:53.992630: I tensorflow/stream_executor/cuda/cuda_blas.cc:1774] TensorFloat-32 will be used for the matrix multiplication. This will only be logged once.\n"
     ]
    },
    {
     "name": "stdout",
     "output_type": "stream",
     "text": [
      "1000/1000 [==============================] - 77s 77ms/step - loss: -0.6341 - metric/ndcg_1: 0.2904 - metric/ndcg_5: 0.3120 - metric/ndcg_10: 0.3393 - metric/ndcg: 0.6349 - val_loss: -0.6695 - val_metric/ndcg_1: 0.3661 - val_metric/ndcg_5: 0.3831 - val_metric/ndcg_10: 0.4081 - val_metric/ndcg: 0.6698\n",
      "Epoch 2/2\n",
      "1000/1000 [==============================] - 77s 77ms/step - loss: -0.6396 - metric/ndcg_1: 0.3023 - metric/ndcg_5: 0.3220 - metric/ndcg_10: 0.3482 - metric/ndcg: 0.6399 - val_loss: -0.6768 - val_metric/ndcg_1: 0.3811 - val_metric/ndcg_5: 0.3980 - val_metric/ndcg_10: 0.4214 - val_metric/ndcg: 0.6770\n",
      "INFO:tensorflow:Assets written to: mslr_keras/bigdata_model/export/latest_model/assets\n"
     ]
    },
    {
     "name": "stderr",
     "output_type": "stream",
     "text": [
      "INFO:tensorflow:Assets written to: mslr_keras/bigdata_model/export/latest_model/assets\n"
     ]
    }
   ],
   "source": [
    "# 大数据量验证\n",
    "config = {\n",
    "    'train_input': [f'/home/guhangsong/Data/MSLR/Fold{i+1}/train.tfrecord' for i in range(5)],\n",
    "    'vali_input': [f'/home/guhangsong/Data/MSLR/Fold{i+1}/vali.tfrecord' for i in range(5)],\n",
    "    'test_input': [f'/home/guhangsong/Data/MSLR/Fold{i+1}/test.tfrecord' for i in range(5)],\n",
    "    'train_batch_size': 32,\n",
    "    'valid_batch_size': 32,\n",
    "    'list_size': None,\n",
    "    'model_dir': 'mslr_keras/bigdata_model',\n",
    "    'num_epochs': 2,\n",
    "    'steps_per_epoch': 1000,\n",
    "    'validation_steps': 100,\n",
    "    'learning_rate': 0.05,\n",
    "    'optimizer': 'adam',\n",
    "    'loss': 'approx_ndcg_loss',\n",
    "    'strategy': 'MirroredStrategy',\n",
    "    'hidden_layer_dims': [64, 32, 16],\n",
    "    'dropout': 0.5,\n",
    "    'name': 'mslr_dnn_bigdata_model',\n",
    "}\n",
    "train_and_validate(config)"
   ]
  },
  {
   "cell_type": "code",
   "execution_count": 7,
   "metadata": {},
   "outputs": [
    {
     "name": "stdout",
     "output_type": "stream",
     "text": [
      "INFO:tensorflow:Using MirroredStrategy with devices ('/job:localhost/replica:0/task:0/device:GPU:0',)\n"
     ]
    },
    {
     "name": "stderr",
     "output_type": "stream",
     "text": [
      "INFO:tensorflow:Using MirroredStrategy with devices ('/job:localhost/replica:0/task:0/device:GPU:0',)\n"
     ]
    },
    {
     "name": "stdout",
     "output_type": "stream",
     "text": [
      "Epoch 1/2\n",
      "1000/1000 [==============================] - 75s 75ms/step - loss: -0.6420 - metric/ndcg_1: 0.3142 - metric/ndcg_5: 0.3328 - metric/ndcg_10: 0.3601 - metric/ndcg: 0.6466 - val_loss: -0.6102 - val_metric/ndcg_1: 0.3562 - val_metric/ndcg_5: 0.3660 - val_metric/ndcg_10: 0.3869 - val_metric/ndcg: 0.6576\n",
      "Epoch 2/2\n",
      "1000/1000 [==============================] - ETA: 0s - loss: -0.6509 - metric/ndcg_1: 0.3370 - metric/ndcg_5: 0.3534 - metric/ndcg_10: 0.3786 - metric/ndcg: 0.6558"
     ]
    }
   ],
   "source": [
    "# 大数据量+gumbel approx ndcg loss验证\n",
    "config = {\n",
    "    'train_input': [f'/home/guhangsong/Data/MSLR/Fold{i+1}/train.tfrecord' for i in range(5)],\n",
    "    'vali_input': [f'/home/guhangsong/Data/MSLR/Fold{i+1}/vali.tfrecord' for i in range(5)],\n",
    "    'test_input': [f'/home/guhangsong/Data/MSLR/Fold{i+1}/test.tfrecord' for i in range(5)],\n",
    "    'train_batch_size': 32,\n",
    "    'valid_batch_size': 32,\n",
    "    'list_size': None,\n",
    "    'model_dir': 'mslr_keras/gumbel_bigdata_model',\n",
    "    'num_epochs': 2,\n",
    "    'steps_per_epoch': 1000,\n",
    "    'validation_steps': 100,\n",
    "    'learning_rate': 0.05,\n",
    "    'optimizer': 'adam',\n",
    "    'loss': 'gumbel_approx_ndcg_loss',\n",
    "    'strategy': 'MirroredStrategy',\n",
    "    'hidden_layer_dims': [64, 32, 16],\n",
    "    'dropout': 0.5,\n",
    "    'name': 'mslr_dnn_gumber_bigdata_model',\n",
    "}\n",
    "train_and_validate(config)"
   ]
  }
 ],
 "metadata": {
  "interpreter": {
   "hash": "a25df13df3a09e29cbdae6ff7053faf9527e3ea6ab1de3b1c9c24b3626196969"
  },
  "kernelspec": {
   "display_name": "Python 3 (ipykernel)",
   "language": "python",
   "name": "python3"
  },
  "language_info": {
   "codemirror_mode": {
    "name": "ipython",
    "version": 3
   },
   "file_extension": ".py",
   "mimetype": "text/x-python",
   "name": "python",
   "nbconvert_exporter": "python",
   "pygments_lexer": "ipython3",
   "version": "3.9.7"
  }
 },
 "nbformat": 4,
 "nbformat_minor": 4
}
