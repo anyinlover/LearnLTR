{
 "cells": [
  {
   "cell_type": "code",
   "execution_count": 1,
   "metadata": {},
   "outputs": [],
   "source": [
    "import tensorflow as tf\n",
    "import tensorflow_ranking as tfr\n",
    "from dataset_builder import ZlibDatasetBuilder"
   ]
  },
  {
   "cell_type": "code",
   "execution_count": 2,
   "metadata": {},
   "outputs": [],
   "source": [
    "_LABEL_FEATURE = 'label'\n",
    "_MASK = '_mask'\n",
    "_PADDING_LABEL = -1.0"
   ]
  },
  {
   "cell_type": "code",
   "execution_count": 3,
   "metadata": {},
   "outputs": [],
   "source": [
    "def train_and_validate(config):\n",
    "    example_feature_spec = {}\n",
    "    for i in range(220):\n",
    "        example_feature_spec[f'feature{i+1}'] = tf.io.FixedLenFeature(shape=(1,), dtype=tf.float32, default_value=0.0)\n",
    "\n",
    "    context_feature_spec = {}\n",
    "    label_spec = (_LABEL_FEATURE, tf.io.FixedLenFeature(shape=(1,), dtype=tf.float32, default_value=_PADDING_LABEL))\n",
    "    dataset_hparams = tfr.keras.pipeline.DatasetHparams(\n",
    "        train_input_pattern=config['train_input'],\n",
    "        valid_input_pattern=config['vali_input'],\n",
    "        train_batch_size=config['train_batch_size'],\n",
    "        valid_batch_size=config['valid_batch_size'],\n",
    "        list_size=config['list_size']\n",
    "    )\n",
    "\n",
    "    pipeline_hparams = tfr.keras.pipeline.PipelineHparams(\n",
    "        model_dir=config['model_dir'],\n",
    "        num_epochs=config['num_epochs'],\n",
    "        steps_per_epoch=config['steps_per_epoch'],\n",
    "        validation_steps=config['validation_steps'],\n",
    "        loss=config['loss'],\n",
    "        optimizer=config['optimizer'],\n",
    "        learning_rate=config['learning_rate'],\n",
    "        strategy=config['strategy']\n",
    "    )\n",
    "    \n",
    "    dnn_scorer = tfr.keras.model.DNNScorer(\n",
    "        hidden_layer_dims = config['hidden_layer_dims'],\n",
    "        output_units=1,\n",
    "        activation = tf.nn.relu,\n",
    "        input_batch_norm = True,\n",
    "        dropout = config['dropout']\n",
    "    )\n",
    "\n",
    "    model_builder = tfr.keras.model.ModelBuilder(\n",
    "        input_creator=tfr.keras.model.FeatureSpecInputCreator(\n",
    "            context_feature_spec, example_feature_spec),\n",
    "        preprocessor=tfr.keras.model.PreprocessorWithSpec(),\n",
    "        scorer=dnn_scorer,\n",
    "        mask_feature_name=_MASK,\n",
    "        name=config['name']\n",
    "    )\n",
    "\n",
    "    dataset_builder = ZlibDatasetBuilder(\n",
    "        context_feature_spec=context_feature_spec,\n",
    "        example_feature_spec=example_feature_spec,\n",
    "        mask_feature_name=_MASK,\n",
    "        label_spec=label_spec,\n",
    "        hparams=dataset_hparams\n",
    "    )\n",
    "\n",
    "    ranking_pipeline = tfr.keras.pipeline.SimplePipeline(\n",
    "        model_builder=model_builder,\n",
    "        dataset_builder=dataset_builder,\n",
    "        hparams=pipeline_hparams\n",
    "    )\n",
    "\n",
    "    ranking_pipeline.train_and_validate(verbose=1)"
   ]
  },
  {
   "cell_type": "code",
   "execution_count": 4,
   "metadata": {},
   "outputs": [
    {
     "name": "stdout",
     "output_type": "stream",
     "text": [
      "INFO:tensorflow:Using MirroredStrategy with devices ('/job:localhost/replica:0/task:0/device:GPU:0',)\n"
     ]
    },
    {
     "name": "stderr",
     "output_type": "stream",
     "text": [
      "2022-03-20 18:10:11.177993: I tensorflow/stream_executor/cuda/cuda_gpu_executor.cc:925] could not open file to read NUMA node: /sys/bus/pci/devices/0000:09:00.0/numa_node\n",
      "Your kernel may have been built without NUMA support.\n",
      "2022-03-20 18:10:11.197884: I tensorflow/stream_executor/cuda/cuda_gpu_executor.cc:925] could not open file to read NUMA node: /sys/bus/pci/devices/0000:09:00.0/numa_node\n",
      "Your kernel may have been built without NUMA support.\n",
      "2022-03-20 18:10:11.198299: I tensorflow/stream_executor/cuda/cuda_gpu_executor.cc:925] could not open file to read NUMA node: /sys/bus/pci/devices/0000:09:00.0/numa_node\n",
      "Your kernel may have been built without NUMA support.\n",
      "2022-03-20 18:10:11.198919: I tensorflow/core/platform/cpu_feature_guard.cc:151] This TensorFlow binary is optimized with oneAPI Deep Neural Network Library (oneDNN) to use the following CPU instructions in performance-critical operations:  SSE4.1 SSE4.2 AVX AVX2 FMA\n",
      "To enable them in other operations, rebuild TensorFlow with the appropriate compiler flags.\n",
      "2022-03-20 18:10:11.200362: I tensorflow/stream_executor/cuda/cuda_gpu_executor.cc:925] could not open file to read NUMA node: /sys/bus/pci/devices/0000:09:00.0/numa_node\n",
      "Your kernel may have been built without NUMA support.\n",
      "2022-03-20 18:10:11.200659: I tensorflow/stream_executor/cuda/cuda_gpu_executor.cc:925] could not open file to read NUMA node: /sys/bus/pci/devices/0000:09:00.0/numa_node\n",
      "Your kernel may have been built without NUMA support.\n",
      "2022-03-20 18:10:11.200948: I tensorflow/stream_executor/cuda/cuda_gpu_executor.cc:925] could not open file to read NUMA node: /sys/bus/pci/devices/0000:09:00.0/numa_node\n",
      "Your kernel may have been built without NUMA support.\n",
      "2022-03-20 18:10:11.630985: I tensorflow/stream_executor/cuda/cuda_gpu_executor.cc:925] could not open file to read NUMA node: /sys/bus/pci/devices/0000:09:00.0/numa_node\n",
      "Your kernel may have been built without NUMA support.\n",
      "2022-03-20 18:10:11.631333: I tensorflow/stream_executor/cuda/cuda_gpu_executor.cc:925] could not open file to read NUMA node: /sys/bus/pci/devices/0000:09:00.0/numa_node\n",
      "Your kernel may have been built without NUMA support.\n",
      "2022-03-20 18:10:11.631343: I tensorflow/core/common_runtime/gpu/gpu_device.cc:1609] Could not identify NUMA node of platform GPU id 0, defaulting to 0.  Your kernel may not have been built with NUMA support.\n",
      "2022-03-20 18:10:11.631648: I tensorflow/stream_executor/cuda/cuda_gpu_executor.cc:925] could not open file to read NUMA node: /sys/bus/pci/devices/0000:09:00.0/numa_node\n",
      "Your kernel may have been built without NUMA support.\n",
      "2022-03-20 18:10:11.631687: I tensorflow/core/common_runtime/gpu/gpu_device.cc:1525] Created device /job:localhost/replica:0/task:0/device:GPU:0 with 9376 MB memory:  -> device: 0, name: NVIDIA GeForce RTX 3080 Ti, pci bus id: 0000:09:00.0, compute capability: 8.6\n"
     ]
    },
    {
     "name": "stdout",
     "output_type": "stream",
     "text": [
      "INFO:tensorflow:Reduce to /job:localhost/replica:0/task:0/device:CPU:0 then broadcast to ('/job:localhost/replica:0/task:0/device:CPU:0',).\n"
     ]
    },
    {
     "name": "stderr",
     "output_type": "stream",
     "text": [
      "INFO:tensorflow:Reduce to /job:localhost/replica:0/task:0/device:CPU:0 then broadcast to ('/job:localhost/replica:0/task:0/device:CPU:0',).\n"
     ]
    },
    {
     "name": "stdout",
     "output_type": "stream",
     "text": [
      "INFO:tensorflow:Reduce to /job:localhost/replica:0/task:0/device:CPU:0 then broadcast to ('/job:localhost/replica:0/task:0/device:CPU:0',).\n"
     ]
    },
    {
     "name": "stderr",
     "output_type": "stream",
     "text": [
      "INFO:tensorflow:Reduce to /job:localhost/replica:0/task:0/device:CPU:0 then broadcast to ('/job:localhost/replica:0/task:0/device:CPU:0',).\n"
     ]
    },
    {
     "name": "stdout",
     "output_type": "stream",
     "text": [
      "INFO:tensorflow:Reduce to /job:localhost/replica:0/task:0/device:CPU:0 then broadcast to ('/job:localhost/replica:0/task:0/device:CPU:0',).\n"
     ]
    },
    {
     "name": "stderr",
     "output_type": "stream",
     "text": [
      "INFO:tensorflow:Reduce to /job:localhost/replica:0/task:0/device:CPU:0 then broadcast to ('/job:localhost/replica:0/task:0/device:CPU:0',).\n"
     ]
    },
    {
     "name": "stdout",
     "output_type": "stream",
     "text": [
      "INFO:tensorflow:Reduce to /job:localhost/replica:0/task:0/device:CPU:0 then broadcast to ('/job:localhost/replica:0/task:0/device:CPU:0',).\n"
     ]
    },
    {
     "name": "stderr",
     "output_type": "stream",
     "text": [
      "INFO:tensorflow:Reduce to /job:localhost/replica:0/task:0/device:CPU:0 then broadcast to ('/job:localhost/replica:0/task:0/device:CPU:0',).\n"
     ]
    },
    {
     "name": "stdout",
     "output_type": "stream",
     "text": [
      "INFO:tensorflow:Reduce to /job:localhost/replica:0/task:0/device:CPU:0 then broadcast to ('/job:localhost/replica:0/task:0/device:CPU:0',).\n"
     ]
    },
    {
     "name": "stderr",
     "output_type": "stream",
     "text": [
      "INFO:tensorflow:Reduce to /job:localhost/replica:0/task:0/device:CPU:0 then broadcast to ('/job:localhost/replica:0/task:0/device:CPU:0',).\n"
     ]
    },
    {
     "name": "stdout",
     "output_type": "stream",
     "text": [
      "INFO:tensorflow:Reduce to /job:localhost/replica:0/task:0/device:CPU:0 then broadcast to ('/job:localhost/replica:0/task:0/device:CPU:0',).\n"
     ]
    },
    {
     "name": "stderr",
     "output_type": "stream",
     "text": [
      "INFO:tensorflow:Reduce to /job:localhost/replica:0/task:0/device:CPU:0 then broadcast to ('/job:localhost/replica:0/task:0/device:CPU:0',).\n"
     ]
    },
    {
     "name": "stdout",
     "output_type": "stream",
     "text": [
      "INFO:tensorflow:Reduce to /job:localhost/replica:0/task:0/device:CPU:0 then broadcast to ('/job:localhost/replica:0/task:0/device:CPU:0',).\n"
     ]
    },
    {
     "name": "stderr",
     "output_type": "stream",
     "text": [
      "INFO:tensorflow:Reduce to /job:localhost/replica:0/task:0/device:CPU:0 then broadcast to ('/job:localhost/replica:0/task:0/device:CPU:0',).\n"
     ]
    },
    {
     "name": "stdout",
     "output_type": "stream",
     "text": [
      "INFO:tensorflow:Reduce to /job:localhost/replica:0/task:0/device:CPU:0 then broadcast to ('/job:localhost/replica:0/task:0/device:CPU:0',).\n"
     ]
    },
    {
     "name": "stderr",
     "output_type": "stream",
     "text": [
      "INFO:tensorflow:Reduce to /job:localhost/replica:0/task:0/device:CPU:0 then broadcast to ('/job:localhost/replica:0/task:0/device:CPU:0',).\n"
     ]
    },
    {
     "name": "stdout",
     "output_type": "stream",
     "text": [
      "INFO:tensorflow:Reduce to /job:localhost/replica:0/task:0/device:CPU:0 then broadcast to ('/job:localhost/replica:0/task:0/device:CPU:0',).\n"
     ]
    },
    {
     "name": "stderr",
     "output_type": "stream",
     "text": [
      "INFO:tensorflow:Reduce to /job:localhost/replica:0/task:0/device:CPU:0 then broadcast to ('/job:localhost/replica:0/task:0/device:CPU:0',).\n"
     ]
    },
    {
     "name": "stdout",
     "output_type": "stream",
     "text": [
      "INFO:tensorflow:Reduce to /job:localhost/replica:0/task:0/device:CPU:0 then broadcast to ('/job:localhost/replica:0/task:0/device:CPU:0',).\n"
     ]
    },
    {
     "name": "stderr",
     "output_type": "stream",
     "text": [
      "INFO:tensorflow:Reduce to /job:localhost/replica:0/task:0/device:CPU:0 then broadcast to ('/job:localhost/replica:0/task:0/device:CPU:0',).\n"
     ]
    },
    {
     "name": "stdout",
     "output_type": "stream",
     "text": [
      "Epoch 1/2\n"
     ]
    },
    {
     "name": "stderr",
     "output_type": "stream",
     "text": [
      "2022-03-20 18:10:30.648131: I tensorflow/stream_executor/cuda/cuda_blas.cc:1774] TensorFloat-32 will be used for the matrix multiplication. This will only be logged once.\n"
     ]
    },
    {
     "name": "stdout",
     "output_type": "stream",
     "text": [
      "1000/1000 [==============================] - 116s 116ms/step - loss: nan - metric/ndcg_1: 0.0182 - metric/ndcg_5: 0.0245 - metric/ndcg_10: 0.0340 - metric/ndcg: 0.2806 - val_loss: nan - val_metric/ndcg_1: 0.0176 - val_metric/ndcg_5: 0.0220 - val_metric/ndcg_10: 0.0313 - val_metric/ndcg: 0.2766\n",
      "Epoch 2/2\n",
      "1000/1000 [==============================] - 79s 79ms/step - loss: nan - metric/ndcg_1: 0.0202 - metric/ndcg_5: 0.0254 - metric/ndcg_10: 0.0340 - metric/ndcg: 0.2813 - val_loss: nan - val_metric/ndcg_1: 0.0163 - val_metric/ndcg_5: 0.0254 - val_metric/ndcg_10: 0.0323 - val_metric/ndcg: 0.2773\n"
     ]
    },
    {
     "name": "stderr",
     "output_type": "stream",
     "text": [
      "2022-03-20 18:13:43.500963: W tensorflow/python/util/util.cc:368] Sets are not currently considered sequences, but this may change in the future, so consider avoiding using them.\n"
     ]
    },
    {
     "name": "stdout",
     "output_type": "stream",
     "text": [
      "INFO:tensorflow:Assets written to: istella_tfr/base_model/export/latest_model/assets\n"
     ]
    },
    {
     "name": "stderr",
     "output_type": "stream",
     "text": [
      "INFO:tensorflow:Assets written to: istella_tfr/base_model/export/latest_model/assets\n"
     ]
    }
   ],
   "source": [
    "# 基线模型，参数未调优\n",
    "config = {\n",
    "    'train_input': '/home/guhangsong/Data/istella-letor/train.tfrecord',\n",
    "    'vali_input': '/home/guhangsong/Data/istella-letor/test.tfrecord',\n",
    "    'train_batch_size': 32,\n",
    "    'valid_batch_size': 32,\n",
    "    'list_size': None,\n",
    "    'model_dir': 'istella_tfr/base_model',\n",
    "    'num_epochs': 2,\n",
    "    'steps_per_epoch': 1000,\n",
    "    'validation_steps': 100,\n",
    "    'learning_rate': 0.05,\n",
    "    'optimizer': 'adam',\n",
    "    'loss': 'approx_ndcg_loss',\n",
    "    'strategy': 'MirroredStrategy',\n",
    "    'hidden_layer_dims': [64, 32, 16],\n",
    "    'dropout': 0.5,\n",
    "    'name': 'istella_base_model',\n",
    "}\n",
    "train_and_validate(config)"
   ]
  }
 ],
 "metadata": {
  "interpreter": {
   "hash": "a25df13df3a09e29cbdae6ff7053faf9527e3ea6ab1de3b1c9c24b3626196969"
  },
  "kernelspec": {
   "display_name": "Python 3.9.7 ('ds')",
   "language": "python",
   "name": "python3"
  },
  "language_info": {
   "codemirror_mode": {
    "name": "ipython",
    "version": 3
   },
   "file_extension": ".py",
   "mimetype": "text/x-python",
   "name": "python",
   "nbconvert_exporter": "python",
   "pygments_lexer": "ipython3",
   "version": "3.9.7"
  },
  "orig_nbformat": 4
 },
 "nbformat": 4,
 "nbformat_minor": 2
}
