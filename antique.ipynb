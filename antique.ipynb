{
 "cells": [
  {
   "cell_type": "code",
   "execution_count": 1,
   "metadata": {},
   "outputs": [],
   "source": [
    "import pathlib\n",
    "import tensorflow as tf\n",
    "import tensorflow_ranking as tfr "
   ]
  },
  {
   "cell_type": "code",
   "execution_count": 2,
   "metadata": {},
   "outputs": [],
   "source": [
    "context_feature_spec = {\n",
    "    'query_tokens': tf.io.RaggedFeature(dtype=tf.string)\n",
    "}\n",
    "example_feature_spec = {\n",
    "    'document_tokens': tf.io.RaggedFeature(dtype=tf.string)\n",
    "}\n",
    "label_spec = {\n",
    "    'relevance': tf.io.FixedLenFeature(shape=(1,), dtype=tf.int64, default_value=-1)\n",
    "}"
   ]
  },
  {
   "cell_type": "code",
   "execution_count": 3,
   "metadata": {},
   "outputs": [],
   "source": [
    "input_creator = tfr.keras.model.FeatureSpecInputCreator(\n",
    "    context_feature_spec, example_feature_spec)"
   ]
  },
  {
   "cell_type": "code",
   "execution_count": 4,
   "metadata": {},
   "outputs": [
    {
     "data": {
      "text/plain": [
       "({'query_tokens': <KerasTensor: type_spec=RaggedTensorSpec(TensorShape([None, None]), tf.string, 1, tf.int64) (created by layer 'query_tokens')>},\n",
       " {'document_tokens': <KerasTensor: type_spec=RaggedTensorSpec(TensorShape([None, None, None]), tf.string, 2, tf.int64) (created by layer 'document_tokens')>})"
      ]
     },
     "execution_count": 4,
     "metadata": {},
     "output_type": "execute_result"
    }
   ],
   "source": [
    "input_creator()"
   ]
  },
  {
   "cell_type": "code",
   "execution_count": 11,
   "metadata": {},
   "outputs": [],
   "source": [
    "class LookUpTablePreprocessor(tfr.keras.model.Preprocessor):\n",
    "    def __init__(self, vocab_file, vocab_size, embedding_dim):\n",
    "        self._vocab_file = vocab_file\n",
    "        self._vocab_size = vocab_size\n",
    "        self._embedding_dim = embedding_dim\n",
    "\n",
    "    def __call__(self, context_inputs, example_inputs, mask):\n",
    "        list_size = tf.shape(mask)[1]\n",
    "        lookup = tf.keras.layers.StringLookup(\n",
    "            max_tokens = self._vocab_size,\n",
    "            vocabulary = self._vocab_file,\n",
    "            mask_token=None)\n",
    "        embedding = tf.keras.layers.Embedding(\n",
    "            input_dim = self._vocab_size,\n",
    "            output_dim = self._embedding_dim,\n",
    "            embeddings_initializer = None,\n",
    "            embeddings_constraint = None)\n",
    "        \n",
    "        context_features = {\n",
    "            key: tf.reduce_mean(embedding(lookup(value)), axis=-2)\n",
    "            for key, value in context_inputs.items()\n",
    "        }\n",
    "        example_features = {\n",
    "            key: tf.reduce_mean(embedding(lookup(value)), axis=-2)\n",
    "            for key, value in example_inputs.items()\n",
    "        }\n",
    "        return context_features, example_features"
   ]
  },
  {
   "cell_type": "code",
   "execution_count": 13,
   "metadata": {},
   "outputs": [],
   "source": [
    "_VOCAB_FILE = '/home/guhangsong/Data/Antique/vocab.txt'\n",
    "_VOCAB_SIZE = len(pathlib.Path(_VOCAB_FILE).read_text().split())\n",
    "\n",
    "preprocessor = LookUpTablePreprocessor(_VOCAB_FILE, _VOCAB_SIZE, 20)"
   ]
  },
  {
   "cell_type": "code",
   "execution_count": 8,
   "metadata": {},
   "outputs": [],
   "source": [
    "scorer = tfr.keras.model.DNNScorer(\n",
    "    hidden_layer_dims = [64, 32, 16],\n",
    "    output_units = 1,\n",
    "    activation = tf.nn.relu,\n",
    "    use_batch_norm = True\n",
    ")"
   ]
  },
  {
   "cell_type": "code",
   "execution_count": 15,
   "metadata": {},
   "outputs": [],
   "source": [
    "model_builder = tfr.keras.model.ModelBuilder(\n",
    "    input_creator = input_creator,\n",
    "    preprocessor = preprocessor,\n",
    "    scorer = scorer,\n",
    "    mask_feature_name = 'example_list_mask',\n",
    "    name = 'antique_model'\n",
    ")"
   ]
  },
  {
   "cell_type": "code",
   "execution_count": 18,
   "metadata": {},
   "outputs": [
    {
     "name": "stdout",
     "output_type": "stream",
     "text": [
      "('You must install pydot (`pip install pydot`) and install graphviz (see instructions at https://graphviz.gitlab.io/download/) ', 'for plot_model/model_to_dot to work.')\n"
     ]
    }
   ],
   "source": [
    "model = model_builder.build()\n",
    "tf.keras.utils.plot_model(model, expand_nested=True)"
   ]
  },
  {
   "cell_type": "code",
   "execution_count": null,
   "metadata": {},
   "outputs": [],
   "source": []
  }
 ],
 "metadata": {
  "interpreter": {
   "hash": "a25df13df3a09e29cbdae6ff7053faf9527e3ea6ab1de3b1c9c24b3626196969"
  },
  "kernelspec": {
   "display_name": "Python 3.9.7 ('ds')",
   "language": "python",
   "name": "python3"
  },
  "language_info": {
   "codemirror_mode": {
    "name": "ipython",
    "version": 3
   },
   "file_extension": ".py",
   "mimetype": "text/x-python",
   "name": "python",
   "nbconvert_exporter": "python",
   "pygments_lexer": "ipython3",
   "version": "3.9.7"
  },
  "orig_nbformat": 4
 },
 "nbformat": 4,
 "nbformat_minor": 2
}
